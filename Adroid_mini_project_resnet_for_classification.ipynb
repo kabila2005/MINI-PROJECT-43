{
  "metadata": {
    "kernelspec": {
      "language": "python",
      "display_name": "Python 3",
      "name": "python3"
    },
    "language_info": {
      "pygments_lexer": "ipython3",
      "nbconvert_exporter": "python",
      "version": "3.6.4",
      "file_extension": ".py",
      "codemirror_mode": {
        "name": "ipython",
        "version": 3
      },
      "name": "python",
      "mimetype": "text/x-python"
    },
    "kaggle": {
      "accelerator": "gpu",
      "dataSources": [
        {
          "sourceId": 450106,
          "sourceType": "datasetVersion",
          "datasetId": 205087
        }
      ],
      "dockerImageVersionId": 30513,
      "isInternetEnabled": false,
      "language": "python",
      "sourceType": "notebook",
      "isGpuEnabled": true
    },
    "colab": {
      "provenance": []
    }
  },
  "nbformat_minor": 0,
  "nbformat": 4,
  "cells": [
    {
      "cell_type": "markdown",
      "source": [
        "# Using ResNet50 for Image classification"
      ],
      "metadata": {
        "id": "XQm-pG3C_5Ro"
      }
    },
    {
      "cell_type": "code",
      "source": [
        "import numpy as np\n",
        "import pandas as pd\n",
        "from tensorflow.keras.preprocessing.image import ImageDataGenerator\n",
        "import tensorflow as tf\n",
        "from tensorflow.keras.layers import Input, Flatten, Dense, Dropout, Conv2D, MaxPooling2D\n",
        "from keras.preprocessing import image\n",
        "import matplotlib.pyplot as plt\n",
        "import matplotlib.image as mpimg\n",
        "from tensorflow.keras.models import Sequential\n",
        "from keras.applications import ResNet50\n",
        "%matplotlib inline\n",
        "import os\n",
        "from PIL import Image\n",
        "from tensorflow.keras.utils import plot_model\n",
        "import warnings\n",
        "\n",
        "warnings.filterwarnings(\"ignore\")"
      ],
      "metadata": {
        "_uuid": "8f2839f25d086af736a60e9eeb907d3b93b6e0e5",
        "_cell_guid": "b1076dfc-b9ad-4769-8c92-a6c4dae69d19",
        "execution": {
          "iopub.status.busy": "2023-07-01T23:12:41.659972Z",
          "iopub.execute_input": "2023-07-01T23:12:41.660621Z",
          "iopub.status.idle": "2023-07-01T23:12:44.836288Z",
          "shell.execute_reply.started": "2023-07-01T23:12:41.660579Z",
          "shell.execute_reply": "2023-07-01T23:12:44.835345Z"
        },
        "trusted": true,
        "id": "P4FUdALm_5Rs"
      },
      "execution_count": null,
      "outputs": []
    },
    {
      "cell_type": "code",
      "source": [
        "folder_path = '../input/animal-image-datasetdog-cat-and-panda/animals/animals/'\n",
        "\n",
        "print('Total cats images:', len(os.listdir(folder_path + 'cats')))\n",
        "print('Total dogs images:', len(os.listdir(folder_path + 'dogs')))\n",
        "print('Total pandas images:', len(os.listdir(folder_path + 'panda')))\n"
      ],
      "metadata": {
        "execution": {
          "iopub.status.busy": "2023-07-01T23:12:44.842014Z",
          "iopub.execute_input": "2023-07-01T23:12:44.842366Z",
          "iopub.status.idle": "2023-07-01T23:12:44.852422Z",
          "shell.execute_reply.started": "2023-07-01T23:12:44.842333Z",
          "shell.execute_reply": "2023-07-01T23:12:44.851427Z"
        },
        "trusted": true,
        "id": "r3pJogSf_5Ru"
      },
      "execution_count": null,
      "outputs": []
    },
    {
      "cell_type": "code",
      "source": [
        "\n",
        "fig = plt.figure(figsize=(10, 7))\n",
        "rows = 2\n",
        "columns = 2\n",
        "\n",
        "Image1 = Image.open(folder_path + 'cats/cats_00011.jpg')\n",
        "Image2 = Image.open(folder_path + 'dogs/dogs_00011.jpg')\n",
        "Image3 = Image.open(folder_path + 'panda/panda_00101.jpg')\n",
        "Image4 = Image.open(folder_path + 'panda/panda_00203.jpg')\n",
        "\n",
        "fig.add_subplot(rows, columns, 1)\n",
        "plt.imshow(Image1)\n",
        "plt.title(\"First\")\n",
        "\n",
        "fig.add_subplot(rows, columns, 2)\n",
        "plt.imshow(Image2)\n",
        "plt.title(\"Second\")\n",
        "\n",
        "fig.add_subplot(rows, columns, 3)\n",
        "plt.imshow(Image3)\n",
        "plt.title(\"Third\")\n",
        "\n",
        "fig.add_subplot(rows, columns, 4)\n",
        "plt.imshow(Image4)\n",
        "plt.title(\"Fourth\")\n",
        "\n",
        "plt.show()\n"
      ],
      "metadata": {
        "execution": {
          "iopub.status.busy": "2023-07-01T23:12:44.853775Z",
          "iopub.execute_input": "2023-07-01T23:12:44.854258Z",
          "iopub.status.idle": "2023-07-01T23:12:45.852281Z",
          "shell.execute_reply.started": "2023-07-01T23:12:44.854225Z",
          "shell.execute_reply": "2023-07-01T23:12:45.851399Z"
        },
        "trusted": true,
        "id": "ooMgwBeN_5Rv"
      },
      "execution_count": null,
      "outputs": []
    },
    {
      "cell_type": "code",
      "source": [
        "\n",
        "train_datagen = ImageDataGenerator(\n",
        "    fill_mode='nearest',\n",
        "    validation_split=0.1\n",
        ")\n",
        "\n",
        "# Train, validation, and test splits\n",
        "train_generator = train_datagen.flow_from_directory(\n",
        "    folder_path,\n",
        "    target_size=(108, 108),\n",
        "    color_mode='rgb',\n",
        "    class_mode='categorical',\n",
        "    subset='training'\n",
        ")\n",
        "\n",
        "validation_generator = train_datagen.flow_from_directory(\n",
        "    folder_path,\n",
        "    target_size=(108, 108),\n",
        "    color_mode='rgb',\n",
        "    class_mode='categorical',\n",
        "    subset='validation'\n",
        ")\n",
        "\n",
        "test_generator = train_datagen.flow_from_directory(\n",
        "    folder_path,\n",
        "    target_size=(108, 108),\n",
        "    color_mode='rgb',\n",
        "    class_mode='categorical',\n",
        "    subset='validation'\n",
        ")\n"
      ],
      "metadata": {
        "execution": {
          "iopub.status.busy": "2023-07-01T23:12:45.8548Z",
          "iopub.execute_input": "2023-07-01T23:12:45.855971Z",
          "iopub.status.idle": "2023-07-01T23:12:46.063749Z",
          "shell.execute_reply.started": "2023-07-01T23:12:45.855934Z",
          "shell.execute_reply": "2023-07-01T23:12:46.062784Z"
        },
        "trusted": true,
        "id": "9rHi3isT_5Rv"
      },
      "execution_count": null,
      "outputs": []
    },
    {
      "cell_type": "code",
      "source": [
        "\n",
        "model = tf.keras.models.Sequential([\n",
        "    ResNet50(input_shape=(108, 108, 3), include_top=False),\n",
        "])\n",
        "for layer in model.layers:\n",
        "    layer.trainable = False\n",
        "\n",
        "model.add(Conv2D(64, (3, 3), activation='relu'))\n",
        "model.add(MaxPooling2D(2, 2))\n",
        "model.add(Flatten())\n",
        "model.add(Dense(64, activation='relu'))\n",
        "model.add(Dropout(0.4))\n",
        "model.add(Dense(3, activation='softmax'))\n",
        "\n",
        "model.summary()"
      ],
      "metadata": {
        "execution": {
          "iopub.status.busy": "2023-07-01T23:12:46.065111Z",
          "iopub.execute_input": "2023-07-01T23:12:46.065505Z",
          "iopub.status.idle": "2023-07-01T23:12:50.476333Z",
          "shell.execute_reply.started": "2023-07-01T23:12:46.065472Z",
          "shell.execute_reply": "2023-07-01T23:12:50.475386Z"
        },
        "trusted": true,
        "id": "FgcsLbbC_5Rv"
      },
      "execution_count": null,
      "outputs": []
    },
    {
      "cell_type": "code",
      "source": [
        "# Visualize the model\n",
        "plot_model(model, to_file='model_visualization.png', show_shapes=True, show_layer_names=True)"
      ],
      "metadata": {
        "execution": {
          "iopub.status.busy": "2023-07-01T23:12:52.724345Z",
          "iopub.execute_input": "2023-07-01T23:12:52.725288Z",
          "iopub.status.idle": "2023-07-01T23:12:52.814642Z",
          "shell.execute_reply.started": "2023-07-01T23:12:52.725253Z",
          "shell.execute_reply": "2023-07-01T23:12:52.813686Z"
        },
        "trusted": true,
        "id": "rRKwcb0b_5Rw"
      },
      "execution_count": null,
      "outputs": []
    },
    {
      "cell_type": "code",
      "source": [
        "model.compile(optimizer='Adam',\n",
        "              loss='categorical_crossentropy',\n",
        "              metrics=['accuracy'])"
      ],
      "metadata": {
        "execution": {
          "iopub.status.busy": "2023-07-01T23:12:52.816293Z",
          "iopub.execute_input": "2023-07-01T23:12:52.81667Z",
          "iopub.status.idle": "2023-07-01T23:12:52.840208Z",
          "shell.execute_reply.started": "2023-07-01T23:12:52.816637Z",
          "shell.execute_reply": "2023-07-01T23:12:52.839254Z"
        },
        "trusted": true,
        "id": "p8EHTEAa_5Rw"
      },
      "execution_count": null,
      "outputs": []
    },
    {
      "cell_type": "code",
      "source": [
        "%%time\n",
        "history = model.fit(\n",
        "    train_generator,\n",
        "    validation_data=validation_generator,\n",
        "    epochs=25,\n",
        "    verbose=1\n",
        ")"
      ],
      "metadata": {
        "execution": {
          "iopub.status.busy": "2023-07-01T23:25:59.213985Z",
          "iopub.execute_input": "2023-07-01T23:25:59.214437Z",
          "iopub.status.idle": "2023-07-01T23:29:40.939364Z",
          "shell.execute_reply.started": "2023-07-01T23:25:59.214403Z",
          "shell.execute_reply": "2023-07-01T23:29:40.938375Z"
        },
        "_kg_hide-output": true,
        "trusted": true,
        "id": "h5GaDZCK_5Rw"
      },
      "execution_count": null,
      "outputs": []
    },
    {
      "cell_type": "code",
      "source": [
        "# Evaluate the model on the test set\n",
        "test_loss, test_accuracy = model.evaluate(test_generator)\n",
        "print(\"Test Loss:\", test_loss)\n",
        "print(\"Test Accuracy:\", test_accuracy)"
      ],
      "metadata": {
        "execution": {
          "iopub.status.busy": "2023-07-01T23:29:40.943006Z",
          "iopub.execute_input": "2023-07-01T23:29:40.943329Z",
          "iopub.status.idle": "2023-07-01T23:29:42.337053Z",
          "shell.execute_reply.started": "2023-07-01T23:29:40.943289Z",
          "shell.execute_reply": "2023-07-01T23:29:42.336019Z"
        },
        "trusted": true,
        "id": "sLcE09UT_5Rx"
      },
      "execution_count": null,
      "outputs": []
    },
    {
      "cell_type": "code",
      "source": [
        "plt.plot(history.history['accuracy'])\n",
        "plt.plot(history.history['val_accuracy'])\n",
        "plt.title('Model accuracy')\n",
        "plt.ylabel('Accuracy')\n",
        "plt.xlabel('Epoch')\n",
        "plt.legend(['Train', 'Validation'], loc='lower right')\n",
        "plt.show()"
      ],
      "metadata": {
        "execution": {
          "iopub.status.busy": "2023-07-01T23:29:42.338788Z",
          "iopub.execute_input": "2023-07-01T23:29:42.339168Z",
          "iopub.status.idle": "2023-07-01T23:29:42.619184Z",
          "shell.execute_reply.started": "2023-07-01T23:29:42.339134Z",
          "shell.execute_reply": "2023-07-01T23:29:42.618213Z"
        },
        "trusted": true,
        "id": "b91ued-a_5Rx"
      },
      "execution_count": null,
      "outputs": []
    },
    {
      "cell_type": "code",
      "source": [
        "plt.plot(history.history['loss'])\n",
        "plt.plot(history.history['val_loss'])\n",
        "plt.title('Model Loss')\n",
        "plt.ylabel('loss')\n",
        "plt.xlabel('Epoch')\n",
        "plt.legend(['Train', 'Validation'], loc='lower right')\n",
        "plt.show()"
      ],
      "metadata": {
        "execution": {
          "iopub.status.busy": "2023-07-01T23:29:42.621182Z",
          "iopub.execute_input": "2023-07-01T23:29:42.621774Z",
          "iopub.status.idle": "2023-07-01T23:29:42.896886Z",
          "shell.execute_reply.started": "2023-07-01T23:29:42.621739Z",
          "shell.execute_reply": "2023-07-01T23:29:42.895961Z"
        },
        "trusted": true,
        "id": "5p5ZB5_f_5Rx"
      },
      "execution_count": null,
      "outputs": []
    },
    {
      "cell_type": "code",
      "source": [],
      "metadata": {
        "id": "OGLHU3lf_5Ry"
      },
      "execution_count": null,
      "outputs": []
    },
    {
      "cell_type": "code",
      "source": [],
      "metadata": {
        "id": "P1S8wdAM_5Ry"
      },
      "execution_count": null,
      "outputs": []
    }
  ]
}